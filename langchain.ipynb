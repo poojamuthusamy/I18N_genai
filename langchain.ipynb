{
  "cells": [
    {
      "cell_type": "markdown",
      "metadata": {
        "colab_type": "text",
        "id": "view-in-github"
      },
      "source": [
        "<a href=\"https://colab.research.google.com/github/Pooja-272005/I18N_genai/blob/main/langchain.ipynb\" target=\"_parent\"><img src=\"https://colab.research.google.com/assets/colab-badge.svg\" alt=\"Open In Colab\"/></a>"
      ]
    },
    {
      "cell_type": "code",
      "execution_count": 3,
      "metadata": {
        "id": "0zJ14GOyOmOB"
      },
      "outputs": [],
      "source": [
        "from langchain.prompts import PromptTemplate"
      ]
    },
    {
      "cell_type": "code",
      "execution_count": 12,
      "metadata": {
        "colab": {
          "base_uri": "https://localhost:8080/"
        },
        "id": "9thICZRQPSVz",
        "outputId": "d075318c-78e2-4cd0-f313-b0b6b98b64d0"
      },
      "outputs": [
        {
          "name": "stdout",
          "output_type": "stream",
          "text": [
            "\u001b[?25l   \u001b[90m━━━━━━━━━━━━━━━━━━━━━━━━━━━━━━━━━━━━━━━━\u001b[0m \u001b[32m0.0/41.3 kB\u001b[0m \u001b[31m?\u001b[0m eta \u001b[36m-:--:--\u001b[0m\r\u001b[2K   \u001b[90m━━━━━━━━━━━━━━━━━━━━━━━━━━━━━━━━━━━━━━━━\u001b[0m \u001b[32m41.3/41.3 kB\u001b[0m \u001b[31m1.7 MB/s\u001b[0m eta \u001b[36m0:00:00\u001b[0m\n",
            "\u001b[?25h"
          ]
        }
      ],
      "source": [
        "%pip install --upgrade --quiet langchain-google-genai\n"
      ]
    },
    {
      "cell_type": "code",
      "execution_count": 13,
      "metadata": {
        "id": "zliht-5wRlqn"
      },
      "outputs": [],
      "source": [
        "from langchain_google_genai import GoogleGenerativeAI"
      ]
    },
    {
      "cell_type": "markdown",
      "metadata": {
        "id": "JD44Cp5pPoFP"
      },
      "source": []
    },
    {
      "cell_type": "code",
      "execution_count": 15,
      "metadata": {
        "id": "xp9JLpA3Rkae"
      },
      "outputs": [],
      "source": [
        "from google.colab import userdata\n",
        "key=userdata.get('google_api_key')"
      ]
    },
    {
      "cell_type": "code",
      "execution_count": null,
      "metadata": {
        "id": "zh2dMr5LTtpb"
      },
      "outputs": [],
      "source": [
        "model=GoogleGenerativeAI(model=\"gemni-pro\",google_api_key=key)"
      ]
    },
    {
      "cell_type": "code",
      "execution_count": 23,
      "metadata": {
        "id": "e-UcdiGxT677"
      },
      "outputs": [],
      "source": [
        "demo_template=\"\"\" you are expert in {programming}.{query}\"\"\""
      ]
    },
    {
      "cell_type": "code",
      "execution_count": 24,
      "metadata": {
        "id": "-Ffzc4GbUHT1"
      },
      "outputs": [],
      "source": [
        "prompt=PromptTemplate(input_variables=[\"programming\",\"query\"],template=demo_template)"
      ]
    },
    {
      "cell_type": "code",
      "execution_count": 26,
      "metadata": {
        "id": "xNlS0PJ6Unpi"
      },
      "outputs": [],
      "source": [
        "prompt_text=prompt.format(programming=\"python\",query=\"write a function to display the list of even numbers\")"
      ]
    },
    {
      "cell_type": "code",
      "execution_count": 18,
      "metadata": {
        "id": "8UyZByF1SKGI"
      },
      "outputs": [],
      "source": [
        "model=GoogleGenerativeAI(model=\"gemini-pro\",google_api_key=key)"
      ]
    },
    {
      "cell_type": "code",
      "execution_count": null,
      "metadata": {
        "id": "4sIMmxsoSlKJ"
      },
      "outputs": [],
      "source": [
        "res=model.invoke(\"write a java function to perform a multiplication  series of n number\")"
      ]
    },
    {
      "cell_type": "code",
      "execution_count": 29,
      "metadata": {
        "colab": {
          "base_uri": "https://localhost:8080/"
        },
        "id": "jBsVwgp4TkmR",
        "outputId": "8f46ff7d-5905-489d-ac6d-a270e865e967"
      },
      "outputs": [
        {
          "name": "stdout",
          "output_type": "stream",
          "text": [
            "```java\n",
            "import java.util.Scanner;\n",
            "\n",
            "public class SumOfSeries {\n",
            "\n",
            "    public static void main(String[] args) {\n",
            "        Scanner scanner = new Scanner(System.in);\n",
            "\n",
            "        // Read the input from the user\n",
            "        System.out.print(\"Enter the number of terms: \");\n",
            "        int n = scanner.nextInt();\n",
            "\n",
            "        // Calculate the sum of the series\n",
            "        int sum = 0;\n",
            "        for (int i = 1; i <= n; i++) {\n",
            "            sum += i;\n",
            "        }\n",
            "\n",
            "        // Print the sum of the series\n",
            "        System.out.println(\"The sum of the series is: \" + sum);\n",
            "    }\n",
            "}\n",
            "```\n"
          ]
        }
      ],
      "source": [
        "print(res)"
      ]
    }
  ],
  "metadata": {
    "colab": {
      "authorship_tag": "ABX9TyNihLB1K9OriXQQHN+oUdlF",
      "include_colab_link": true,
      "provenance": []
    },
    "kernelspec": {
      "display_name": "Python 3",
      "name": "python3"
    },
    "language_info": {
      "name": "python"
    }
  },
  "nbformat": 4,
  "nbformat_minor": 0
}
